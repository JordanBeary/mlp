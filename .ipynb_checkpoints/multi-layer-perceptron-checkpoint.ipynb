{
 "cells": [
  {
   "cell_type": "code",
   "execution_count": 1,
   "metadata": {},
   "outputs": [
    {
     "name": "stderr",
     "output_type": "stream",
     "text": [
      "Using TensorFlow backend.\n"
     ]
    }
   ],
   "source": [
    "import numpy as np\n",
    "import matplotlib.pyplot as plt\n",
    "from keras.utils import to_categorical"
   ]
  },
  {
   "cell_type": "code",
   "execution_count": 2,
   "metadata": {},
   "outputs": [],
   "source": [
    "train_data = np.loadtxt('mnist_train.csv', dtype = str, delimiter = ',')\n",
    "test_data = np.loadtxt('mnist_test.csv', dtype = str, delimiter = ',')\n",
    "\n",
    "targets = np.asarray(train_data[:, 0:1], dtype='object')\n",
    "inputs = np.asarray(train_data[:,1:], dtype='float')"
   ]
  },
  {
   "cell_type": "code",
   "execution_count": 4,
   "metadata": {},
   "outputs": [
    {
     "data": {
      "text/plain": [
       "784"
      ]
     },
     "execution_count": 4,
     "metadata": {},
     "output_type": "execute_result"
    }
   ],
   "source": [
    "def add_ones(X):\n",
    "    a, b = np.shape(X)\n",
    "    c = np.ones((a , 1))\n",
    "    return np.hstack((c, X))"
   ]
  },
  {
   "cell_type": "code",
   "execution_count": null,
   "metadata": {},
   "outputs": [],
   "source": [
    "np.shape(inputs)"
   ]
  },
  {
   "cell_type": "code",
   "execution_count": null,
   "metadata": {},
   "outputs": [],
   "source": [
    "def sigmoid(x):\n",
    "    return 1.0/(1+ np.exp(-x))\n",
    "\n",
    "def sigmoid_derivative(x):\n",
    "    return x * (1.0 - x)\n",
    "\n",
    "class NN: \n",
    "    \"\"\"Initialize the structure of the neural network and its parts:\n",
    "    - number of inputs\n",
    "    - number of hidden layer neurons\n",
    "    - number of output neurons\n",
    "    \n",
    "    Define/initialize the various functions needed:\n",
    "    - feedforward propagation\n",
    "    - sigmoid function \n",
    "    - sigmoid derivation\n",
    "    - error function\n",
    "    - backpropagation\n",
    "    - activation function\n",
    "    \"\"\"\n",
    "    learning_rate = 0.1\n",
    "    \n",
    "    def __init__(self, num_inputs, num_targets, num_hidden_nodes, weights = None, momentum = None):\n",
    "        self.num_inputs = inputs\n",
    "        \n",
    "        self.input_to_hidden_weights = init_w1(weights)\n",
    "        self.hidden_layer = neuronLayer(num_hidden_nodes)\n",
    "        \n",
    "        self.hidden_to_output_weights =  inti_w2(weights)\n",
    "        self.output_layer = neuronLayer(targets)\n",
    "        \n",
    "    def init_w1(self, weights):\n",
    "        weight_num = 0 \n",
    "        for h in range(len(self.hidden_layer.neuron)):\n",
    "            for i in range(self.inputs)\n",
    "    \n",
    "    def feedforward(self):\n",
    "        hidden_layer = sigmoid(np.dot(self.inputs, self.input_to_hidden_weights))\n",
    "        self.outputs = sigmoid(np.dot(self.hidden_layer, self.hidden_to_output_weights))\n",
    "    \n",
    "class neuronLayer:\n",
    "    def __init__(self, num_hidden_nodes, bias_weights):\n",
    "        self.bias_weights = bias_weights if bias else np.random.uniform(-0.05, 0.05)\n",
    "\n",
    "class neuron:\n",
    "    '''initialize and define the behavior of individual neurons'''\n",
    "    def __init__(self, bias_weights):\n",
    "        self.bias_weights = bias_weights\n",
    "        self.weights = []\n",
    "    \n",
    "    def feed_forward(self, inputs):\n",
    "        "
   ]
  },
  {
   "cell_type": "code",
   "execution_count": null,
   "metadata": {},
   "outputs": [],
   "source": [
    "inputs = np.array([[1,0,1], \n",
    "                   [0,1,1]])\n",
    "\n",
    "outputs = np.array([[1],[0]])\n",
    "\n",
    "input_hidden_weights = np.full((2,3), 0.1)\n",
    "hidden_output_weights = np.full((1,3), 0.1)\n",
    "\n",
    "hidden_layer = [[] for _ in range(2)]"
   ]
  },
  {
   "cell_type": "code",
   "execution_count": null,
   "metadata": {},
   "outputs": [],
   "source": [
    "hidden_layer"
   ]
  },
  {
   "cell_type": "code",
   "execution_count": null,
   "metadata": {},
   "outputs": [],
   "source": [
    "def sigmoid(x):\n",
    "    return 1.0/(1+ np.exp(-x))\n",
    "\n",
    "def sigmoid_derivative(x):\n",
    "    return x * (1.0 - x)\n",
    "\n",
    "def feedforward(inputs, weights):\n",
    "    return sigmoid(np.dot(inputs, weights))"
   ]
  }
 ],
 "metadata": {
  "kernelspec": {
   "display_name": "Python 3",
   "language": "python",
   "name": "python3"
  },
  "language_info": {
   "codemirror_mode": {
    "name": "ipython",
    "version": 3
   },
   "file_extension": ".py",
   "mimetype": "text/x-python",
   "name": "python",
   "nbconvert_exporter": "python",
   "pygments_lexer": "ipython3",
   "version": "3.7.3"
  }
 },
 "nbformat": 4,
 "nbformat_minor": 2
}
